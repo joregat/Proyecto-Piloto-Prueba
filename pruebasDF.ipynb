{
 "cells": [
  {
   "cell_type": "code",
   "execution_count": 14,
   "metadata": {},
   "outputs": [
    {
     "name": "stdout",
     "output_type": "stream",
     "text": [
      "  ticker       date     time                               title\n",
      "0   GOOG  Nov-03-22  09:46PM  Dow Jones Futures: Jobs Report Key\n"
     ]
    }
   ],
   "source": [
    "import pandas as pd\n",
    "\n",
    "# parsed_data = [['GOOG', 'Nov-03-22', '09:46PM', 'Dow Jones Futures: Jobs Report Key For Market Rally As Apple, Google Plunge']]\n",
    "parsed_data = [['GOOG', 'Nov-03-22', '09:46PM', 'Dow Jones Futures: Jobs Report Key']]\n",
    "df = pd.DataFrame(parsed_data, columns=['ticker', 'date', 'time', 'title'])\n",
    "print(df)"
   ]
  },
  {
   "cell_type": "code",
   "execution_count": 15,
   "metadata": {},
   "outputs": [
    {
     "name": "stdout",
     "output_type": "stream",
     "text": [
      "  ticker        date     time                               title\n",
      "0   GOOG  2022-11-03  09:46PM  Dow Jones Futures: Jobs Report Key\n"
     ]
    }
   ],
   "source": [
    "df['date'] = pd.to_datetime (df.date).dt.date\n",
    "print(df)"
   ]
  }
 ],
 "metadata": {
  "kernelspec": {
   "display_name": "Python 3.10.5 64-bit",
   "language": "python",
   "name": "python3"
  },
  "language_info": {
   "codemirror_mode": {
    "name": "ipython",
    "version": 3
   },
   "file_extension": ".py",
   "mimetype": "text/x-python",
   "name": "python",
   "nbconvert_exporter": "python",
   "pygments_lexer": "ipython3",
   "version": "3.10.5"
  },
  "orig_nbformat": 4,
  "vscode": {
   "interpreter": {
    "hash": "369f2c481f4da34e4445cda3fffd2e751bd1c4d706f27375911949ba6bb62e1c"
   }
  }
 },
 "nbformat": 4,
 "nbformat_minor": 2
}
